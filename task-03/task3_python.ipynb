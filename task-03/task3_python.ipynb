{
  "nbformat": 4,
  "nbformat_minor": 0,
  "metadata": {
    "colab": {
      "provenance": []
    },
    "kernelspec": {
      "name": "python3",
      "display_name": "Python 3"
    },
    "language_info": {
      "name": "python"
    }
  },
  "cells": [
    {
      "cell_type": "code",
      "source": [
        "n=int(input('enter a num: '))\n",
        "primes=[i for i in range(2, n+1) if all(i%j!=0 for j in range(2,int(i**0.5)+1))]\n",
        "print(\"Prime numbers up to\", n, \"are:\", primes)\n"
      ],
      "metadata": {
        "id": "XU6dxhsN_5r5",
        "colab": {
          "base_uri": "https://localhost:8080/"
        },
        "outputId": "dfd35eea-658c-40ce-ffa4-912e1c526cdd"
      },
      "execution_count": 3,
      "outputs": [
        {
          "output_type": "stream",
          "name": "stdout",
          "text": [
            "enter a num: 20\n",
            "Prime numbers up to 20 are: [2, 3, 5, 7, 11, 13, 17, 19]\n"
          ]
        }
      ]
    }
  ]
}